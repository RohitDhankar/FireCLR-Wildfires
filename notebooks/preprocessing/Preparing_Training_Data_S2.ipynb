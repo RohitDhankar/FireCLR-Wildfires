{
 "cells": [
  {
   "cell_type": "markdown",
   "metadata": {},
   "source": [
    "## Notes\n",
    "\n",
    "* the avaliable training dataset from the S2 is Mesa. \n",
    "\n",
    "* Cut the images into 4\\*32\\*32 tiles\n",
    "\n",
    "* Output the images into training dataset folder"
   ]
  },
  {
   "cell_type": "code",
   "execution_count": 1,
   "metadata": {},
   "outputs": [
    {
     "name": "stderr",
     "output_type": "stream",
     "text": [
      "/opt/conda/envs/mlenv/lib/python3.7/site-packages/tqdm/auto.py:22: TqdmWarning: IProgress not found. Please update jupyter and ipywidgets. See https://ipywidgets.readthedocs.io/en/stable/user_install.html\n",
      "  from .autonotebook import tqdm as notebook_tqdm\n"
     ]
    }
   ],
   "source": [
    "import glob\n",
    "import numpy as np\n",
    "import torch\n",
    "from torch.utils.data import DataLoader\n",
    "import pandas as pd\n",
    "from matplotlib import pyplot as plt\n",
    "import os\n",
    "from osgeo import gdal\n",
    "import math\n",
    "#from PIL import Image\n",
    "from tqdm import tqdm\n",
    "import time"
   ]
  },
  {
   "cell_type": "code",
   "execution_count": 3,
   "metadata": {},
   "outputs": [],
   "source": [
    "flist = glob.glob(\"/home/data/Sentinel_Mesa_4Bands_Training/\"+\"*.tif\")\n",
    "flist.sort()"
   ]
  },
  {
   "cell_type": "code",
   "execution_count": 7,
   "metadata": {},
   "outputs": [
    {
     "name": "stdout",
     "output_type": "stream",
     "text": [
      "band 1 finished\n",
      "band 2 finished\n",
      "band 3 finished\n",
      "band 4 finished\n"
     ]
    }
   ],
   "source": [
    "image_list = []\n",
    "for f in flist:\n",
    "    val = gdal.Open(f).ReadAsArray()\n",
    "    image_list.append(val)\n",
    "image_arr = np.asarray(image_list)\n",
    "#print(image_arr.shape)\n",
    "# create a dataframe to store the band parameters\n",
    "para=pd.DataFrame()\n",
    "for i in range(image_arr.shape[1]):\n",
    "\n",
    "    data_scaled=image_arr[:,i,::]*1 # no scaled\n",
    "    \n",
    "    max = np.max(data_scaled)\n",
    "    min = np.min(data_scaled)\n",
    "    mean = np.mean(data_scaled)\n",
    "    median = np.median(data_scaled)\n",
    "    std = np.std(data_scaled)\n",
    "\n",
    "\n",
    "    values = [ max, min, mean, median, std]\n",
    "    names = [ 'max', 'min', 'mean', 'median', 'std']\n",
    "    \n",
    "    out = pd.Series(dict(zip(names, values)))   \n",
    "    row = pd.Series({'band':str(i+1)})\n",
    "    row = row.append(out)\n",
    "    print('band '+str(i+1)+\" finished\")\n",
    "\n",
    "    para = para.append(row,ignore_index=True)\n",
    "\n",
    "del image_arr,image_list"
   ]
  },
  {
   "cell_type": "code",
   "execution_count": 8,
   "metadata": {},
   "outputs": [
    {
     "data": {
      "text/html": [
       "<div>\n",
       "<style scoped>\n",
       "    .dataframe tbody tr th:only-of-type {\n",
       "        vertical-align: middle;\n",
       "    }\n",
       "\n",
       "    .dataframe tbody tr th {\n",
       "        vertical-align: top;\n",
       "    }\n",
       "\n",
       "    .dataframe thead th {\n",
       "        text-align: right;\n",
       "    }\n",
       "</style>\n",
       "<table border=\"1\" class=\"dataframe\">\n",
       "  <thead>\n",
       "    <tr style=\"text-align: right;\">\n",
       "      <th></th>\n",
       "      <th>band</th>\n",
       "      <th>max</th>\n",
       "      <th>min</th>\n",
       "      <th>mean</th>\n",
       "      <th>median</th>\n",
       "      <th>std</th>\n",
       "    </tr>\n",
       "  </thead>\n",
       "  <tbody>\n",
       "    <tr>\n",
       "      <th>0</th>\n",
       "      <td>1</td>\n",
       "      <td>18408.0</td>\n",
       "      <td>0.0</td>\n",
       "      <td>1062.885748</td>\n",
       "      <td>942.0</td>\n",
       "      <td>636.828560</td>\n",
       "    </tr>\n",
       "    <tr>\n",
       "      <th>1</th>\n",
       "      <td>2</td>\n",
       "      <td>18855.0</td>\n",
       "      <td>0.0</td>\n",
       "      <td>990.512764</td>\n",
       "      <td>876.0</td>\n",
       "      <td>636.148088</td>\n",
       "    </tr>\n",
       "    <tr>\n",
       "      <th>2</th>\n",
       "      <td>3</td>\n",
       "      <td>23857.0</td>\n",
       "      <td>0.0</td>\n",
       "      <td>1005.646746</td>\n",
       "      <td>846.0</td>\n",
       "      <td>758.510431</td>\n",
       "    </tr>\n",
       "    <tr>\n",
       "      <th>3</th>\n",
       "      <td>4</td>\n",
       "      <td>22105.0</td>\n",
       "      <td>0.0</td>\n",
       "      <td>2007.063252</td>\n",
       "      <td>1923.0</td>\n",
       "      <td>813.450629</td>\n",
       "    </tr>\n",
       "  </tbody>\n",
       "</table>\n",
       "</div>"
      ],
      "text/plain": [
       "  band      max  min         mean  median         std\n",
       "0    1  18408.0  0.0  1062.885748   942.0  636.828560\n",
       "1    2  18855.0  0.0   990.512764   876.0  636.148088\n",
       "2    3  23857.0  0.0  1005.646746   846.0  758.510431\n",
       "3    4  22105.0  0.0  2007.063252  1923.0  813.450629"
      ]
     },
     "execution_count": 8,
     "metadata": {},
     "output_type": "execute_result"
    }
   ],
   "source": [
    "para"
   ]
  },
  {
   "cell_type": "code",
   "execution_count": 8,
   "metadata": {},
   "outputs": [],
   "source": [
    "band_dict = {1: \"Band 1 - Blue\", 2: \"Band 2 - Green\", 3: \"Band 3 - Red\", 4: \"Band 4 - NIR\"}"
   ]
  },
  {
   "cell_type": "code",
   "execution_count": 9,
   "metadata": {},
   "outputs": [],
   "source": [
    "def normalizaed_data(img):\n",
    "    #min-max normalization of the image based on all images\n",
    "    #four bands, for different min, max\n",
    "    max = [18408, 18855, 23857, 22105]\n",
    "    min = [0, 0, 0, 0]\n",
    "    img_normalized=np.zeros(img.shape)\n",
    "    for i in range(4):\n",
    "        img_normalized[i,:,:]=(img[i,:,:]-min[i])/(max[i]-min[i])\n",
    "    \n",
    "    return img_normalized.astype(np.float64)\n"
   ]
  },
  {
   "cell_type": "code",
   "execution_count": 10,
   "metadata": {},
   "outputs": [],
   "source": [
    "def recover_data(arr):\n",
    "    #recover min-max normalized image\n",
    "    max = [18408, 18855, 23857, 22105]\n",
    "    min = [0, 0, 0, 0]\n",
    "    img_recovered=np.zeros(arr.shape)\n",
    "    for i in range(4):\n",
    "        img_recovered[i,:,:]=arr[i,:,:]*(max[i]-min[i])+min[i]\n",
    "    \n",
    "    return img_recovered.astype(np.float64)"
   ]
  },
  {
   "cell_type": "code",
   "execution_count": 15,
   "metadata": {},
   "outputs": [],
   "source": [
    "def load_image(img_src,normalization = True):\n",
    "    '''\n",
    "    args:\n",
    "    img_src - directory to the target image\n",
    "\n",
    "    return:\n",
    "    data_mtrx - a dictionary of two data matrices for pre and post fire; each of them is in 3 dimensions (band,rows,cols)\n",
    "    meta_data - metadata includes: transformation, projection, numerber of rows, number of columns, number of bands\n",
    "    band_dict - band dictionary includes the information of each band\n",
    "    '''\n",
    "    \n",
    "    s2_name = os.path.basename(img_src)[:-4]\n",
    "    loc_name = 'Mesa'\n",
    "    print(\"Loading image: %s - %s\" %(loc_name,s2_name))\n",
    "    \n",
    "    ds = gdal.Open(img_src)\n",
    "    ds_arr = ds.ReadAsArray().astype(np.float32)\n",
    "    \n",
    "    if normalization:\n",
    "        ds_arr = normalizaed_data(ds_arr)\n",
    "    \n",
    "    print(\"Loading image is done!\")\n",
    "    return ds_arr,s2_name,loc_name"
   ]
  },
  {
   "cell_type": "code",
   "execution_count": 16,
   "metadata": {},
   "outputs": [],
   "source": [
    "def create_image_tile(img_src, out_dir, stride_size=32, tile_size = 32):\n",
    "    '''\n",
    "    args:\n",
    "    data_mtrx - a path to 3-dimensional data matrix read from a satellite image\n",
    "\n",
    "    tile_size - the size of the tile in integer, the default size is 3*3\n",
    "    stride_size - the size of the stride in integer, for the size of moving pixels for each tile\n",
    "    output - True/False, whether output the data matrix, the default is False\n",
    "    out_dir - output directory of the tiled image the default is None. If the ouput is True, the out_dir is required. Output data type should be acceptable for the numpy.save, npy is recommended.\n",
    "\n",
    "    return:\n",
    "    data_mtrx_tile - a data matrix of the image after tiling\n",
    "\n",
    "    '''\n",
    "    data_mtrx, ps_name, loc_name = load_image(img_src)\n",
    "\n",
    "    bands, rows, cols = data_mtrx.shape\n",
    "    \n",
    "    print(\"Start tiling the image...\")\n",
    " \n",
    "    new_rows = math.floor(1+(rows-tile_size)/stride_size) #asking huiqi to check this one, need to be changed\n",
    "    new_cols = math.floor(1+(cols-tile_size)/stride_size)\n",
    "    \n",
    "    print(\"The numbers of rows and columns after tiling are (%d, %d)\"%(new_rows,new_cols))\n",
    "\n",
    "    for i in range(new_rows):\n",
    "        if i<10:\n",
    "            str_new_rows = '000'+str(i)\n",
    "        elif i<100:\n",
    "            str_new_rows = '00'+str(i)\n",
    "        elif i<1000:\n",
    "            str_new_rows = '0'+str(i)\n",
    "        else:\n",
    "            str_new_rows = str(i)\n",
    "        for j in range(new_cols):\n",
    "            if j<10:\n",
    "                str_new_cols = '000'+str(j)\n",
    "            elif j<100:\n",
    "                str_new_cols = '00'+str(j)\n",
    "            elif j<1000:\n",
    "                str_new_cols = '0'+str(j)\n",
    "            else:\n",
    "                str_new_cols = str(j)\n",
    "            cropped_arr = data_mtrx[:,i*stride_size : (i*stride_size+tile_size), j*stride_size : (j*stride_size+tile_size)]\n",
    "            cropped_arr[cropped_arr==0.0]=np.nan\n",
    "            if np.isnan(cropped_arr).sum() == 0:\n",
    "                output_file = os.path.join(out_dir,loc_name+\"_\"+ps_name+\"_\"+str_new_rows+\"_\"+str_new_cols+\".npy\")\n",
    "                np.save(output_file, cropped_arr)\n",
    "            if i == 0 and j==0:\n",
    "                print(\"After tiling, the size of data matrix becomes: \", cropped_arr.shape)\n",
    "    del data_mtrx, cropped_arr"
   ]
  },
  {
   "cell_type": "code",
   "execution_count": 17,
   "metadata": {},
   "outputs": [
    {
     "name": "stdout",
     "output_type": "stream",
     "text": [
      "Loading image: Mesa - S2A_20180701\n",
      "Loading image is done!\n",
      "Start tiling the image...\n",
      "The numbers of rows and columns after tiling are (343, 343)\n",
      "After tiling, the size of data matrix becomes:  (4, 32, 32)\n",
      "Done. 0.79 mintues\n",
      "Loading image: Mesa - S2A_20180711\n",
      "Loading image is done!\n",
      "Start tiling the image...\n",
      "The numbers of rows and columns after tiling are (343, 343)\n",
      "After tiling, the size of data matrix becomes:  (4, 32, 32)\n",
      "Done. 0.82 mintues\n",
      "Loading image: Mesa - S2A_20180810\n",
      "Loading image is done!\n",
      "Start tiling the image...\n",
      "The numbers of rows and columns after tiling are (343, 343)\n",
      "After tiling, the size of data matrix becomes:  (4, 32, 32)\n",
      "Done. 1.00 mintues\n",
      "Loading image: Mesa - S2A_20180830\n",
      "Loading image is done!\n",
      "Start tiling the image...\n",
      "The numbers of rows and columns after tiling are (343, 343)\n",
      "After tiling, the size of data matrix becomes:  (4, 32, 32)\n",
      "Done. 0.98 mintues\n",
      "Loading image: Mesa - S2A_20180909\n",
      "Loading image is done!\n",
      "Start tiling the image...\n",
      "The numbers of rows and columns after tiling are (343, 343)\n",
      "After tiling, the size of data matrix becomes:  (4, 32, 32)\n",
      "Done. 1.02 mintues\n",
      "Loading image: Mesa - S2B_20180825\n",
      "Loading image is done!\n",
      "Start tiling the image...\n",
      "The numbers of rows and columns after tiling are (343, 343)\n",
      "After tiling, the size of data matrix becomes:  (4, 32, 32)\n",
      "Done. 1.06 mintues\n",
      "Loading image: Mesa - S2B_20180904\n",
      "Loading image is done!\n",
      "Start tiling the image...\n",
      "The numbers of rows and columns after tiling are (343, 343)\n",
      "After tiling, the size of data matrix becomes:  (4, 32, 32)\n",
      "Done. 1.10 mintues\n",
      "Loading image: Mesa - S2B_20180924\n",
      "Loading image is done!\n",
      "Start tiling the image...\n",
      "The numbers of rows and columns after tiling are (343, 343)\n",
      "After tiling, the size of data matrix becomes:  (4, 32, 32)\n",
      "Done. 1.20 mintues\n"
     ]
    }
   ],
   "source": [
    "for tr_f in flist:\n",
    "    start = time.time()\n",
    "    create_image_tile(tr_f,out_dir = \"/home/data/S2_Training\")\n",
    "    print(\"Done. %.2f mintues\" %((time.time()-start)/60))"
   ]
  },
  {
   "cell_type": "code",
   "execution_count": 19,
   "metadata": {},
   "outputs": [],
   "source": [
    "test = np.load(\"/home/data/S2_Training/Mesa_S2A_20180909_0034_0223.npy\")\n",
    "test = test*10"
   ]
  },
  {
   "cell_type": "code",
   "execution_count": 20,
   "metadata": {},
   "outputs": [
    {
     "data": {
      "image/png": "[encoded data removed]",
      "text/plain": [
       "<Figure size 432x288 with 1 Axes>"
      ]
     },
     "metadata": {
      "needs_background": "light"
     },
     "output_type": "display_data"
    }
   ],
   "source": [
    "plt.figure()\n",
    "plt.imshow(np.moveaxis(test[[2,1,0],:,:],0,-1))\n",
    "plt.axis(\"off\")\n",
    "plt.show()"
   ]
  },
  {
   "cell_type": "code",
   "execution_count": 25,
   "metadata": {},
   "outputs": [],
   "source": [
    "test_list = glob.glob(\"/home/data/S2_Training/\"+\"*.npy\")"
   ]
  },
  {
   "cell_type": "code",
   "execution_count": 26,
   "metadata": {},
   "outputs": [
    {
     "data": {
      "text/plain": [
       "941190"
      ]
     },
     "execution_count": 26,
     "metadata": {},
     "output_type": "execute_result"
    }
   ],
   "source": [
    "len(test_list)"
   ]
  },
  {
   "cell_type": "code",
   "execution_count": null,
   "metadata": {},
   "outputs": [],
   "source": []
  }
 ],
 "metadata": {
  "kernelspec": {
   "display_name": "Python 3.7.12 ('mlenv')",
   "language": "python",
   "name": "python3"
  },
  "language_info": {
   "codemirror_mode": {
    "name": "ipython",
    "version": 3
   },
   "file_extension": ".py",
   "mimetype": "text/x-python",
   "name": "python",
   "nbconvert_exporter": "python",
   "pygments_lexer": "ipython3",
   "version": "3.7.12"
  },
  "orig_nbformat": 4,
  "vscode": {
   "interpreter": {
    "hash": "58a3192e8a7933dc19dfe2cbd46a519cde9c99cb96266d2437ea59eff5c83e98"
   }
  }
 },
 "nbformat": 4,
 "nbformat_minor": 2
}
