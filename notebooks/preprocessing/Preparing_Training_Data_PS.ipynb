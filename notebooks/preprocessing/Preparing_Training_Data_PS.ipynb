{
 "cells": [
  {
   "cell_type": "markdown",
   "metadata": {},
   "source": [
    "## Notes\n",
    "\n",
    "* the avaliable training datasets from the PlanetScope AnalyticMS_SR are the East Troublesome\n",
    "and McFarland fires. \n",
    "\n",
    "* Drop images with range 0-255\n",
    "\n",
    "* Cut the images into 4\\*32\\*32 tiles\n",
    "\n",
    "* Outpuy the images into training dataset folder"
   ]
  },
  {
   "cell_type": "code",
   "execution_count": 1,
   "metadata": {},
   "outputs": [
    {
     "name": "stderr",
     "output_type": "stream",
     "text": [
      "/opt/conda/envs/mlenv/lib/python3.7/site-packages/tqdm/auto.py:22: TqdmWarning: IProgress not found. Please update jupyter and ipywidgets. See https://ipywidgets.readthedocs.io/en/stable/user_install.html\n",
      "  from .autonotebook import tqdm as notebook_tqdm\n"
     ]
    }
   ],
   "source": [
    "import glob\n",
    "import numpy as np\n",
    "import torch\n",
    "from torch.utils.data import DataLoader\n",
    "import pandas as pd\n",
    "from matplotlib import pyplot as plt\n",
    "import os\n",
    "from osgeo import gdal\n",
    "import math\n",
    "#from PIL import Image\n",
    "from tqdm import tqdm\n",
    "import time"
   ]
  },
  {
   "cell_type": "code",
   "execution_count": 37,
   "metadata": {},
   "outputs": [],
   "source": [
    "#set the normalization parameters (fixed)\n",
    "min = 0\n",
    "et_para_list = glob.glob(\"/home/zbc123a/wildfire/notebooks/Training_Data_Fires/\"+\"EastTroublesome_stats_B*.csv\")\n",
    "et_para_list.sort()\n",
    "et_bands_max = []\n",
    "for et_para in et_para_list:\n",
    "    df = pd.read_csv(et_para)\n",
    "    et_bands_max.append(df.Max.max())\n",
    "\n",
    "mf_para_list = glob.glob(\"/home/zbc123a/wildfire/notebooks/Training_Data_Fires/\"+\"McFarland_stats_B*.csv\")\n",
    "mf_para_list.sort()\n",
    "mf_bands_max = []\n",
    "for mf_para in mf_para_list:\n",
    "    df = pd.read_csv(mf_para)\n",
    "    mf_bands_max.append(df.Max.max())"
   ]
  },
  {
   "cell_type": "code",
   "execution_count": 38,
   "metadata": {},
   "outputs": [
    {
     "data": {
      "text/plain": [
       "[9157, 8396, 12048, 14796]"
      ]
     },
     "execution_count": 38,
     "metadata": {},
     "output_type": "execute_result"
    }
   ],
   "source": [
    "mf_bands_max"
   ]
  },
  {
   "cell_type": "code",
   "execution_count": 39,
   "metadata": {},
   "outputs": [
    {
     "data": {
      "text/plain": [
       "[15428, 25493, 51991, 62883]"
      ]
     },
     "execution_count": 39,
     "metadata": {},
     "output_type": "execute_result"
    }
   ],
   "source": [
    "et_bands_max"
   ]
  },
  {
   "cell_type": "code",
   "execution_count": 7,
   "metadata": {},
   "outputs": [],
   "source": [
    "max = [15428, 25493, 51991, 62883]\n",
    "min = [0, 0, 0, 0]"
   ]
  },
  {
   "cell_type": "code",
   "execution_count": 2,
   "metadata": {},
   "outputs": [],
   "source": [
    "df_et_stats = pd.read_csv(\"/home/zbc123a/wildfire/notebooks/Training_Data_Fires/EastTroublesome_stats.csv\")\n",
    "df_mf_stats = pd.read_csv(\"/home/zbc123a/wildfire/notebooks/Training_Data_Fires/McFarland_stats.csv\")\n",
    "df_et_stats_train = df_et_stats.loc[df_et_stats[\"Max\"]!=255,:]\n",
    "df_mf_stats_train = df_mf_stats.loc[df_mf_stats[\"Max\"]!=255,:]"
   ]
  },
  {
   "cell_type": "code",
   "execution_count": 24,
   "metadata": {},
   "outputs": [],
   "source": [
    "et_list = [\"/home/data/PS_EastTroublesome_AnalyticMS_SR/\"+f for f in df_et_stats_train.File.values]"
   ]
  },
  {
   "cell_type": "code",
   "execution_count": 25,
   "metadata": {},
   "outputs": [],
   "source": [
    "mf_list = [\"/home/data/PS_McFarland_AnalyticMS_SR/\"+f for f in df_mf_stats_train.File.values]"
   ]
  },
  {
   "cell_type": "code",
   "execution_count": 26,
   "metadata": {},
   "outputs": [],
   "source": [
    "training_list = et_list+mf_list"
   ]
  },
  {
   "cell_type": "code",
   "execution_count": 27,
   "metadata": {},
   "outputs": [
    {
     "data": {
      "text/plain": [
       "43"
      ]
     },
     "execution_count": 27,
     "metadata": {},
     "output_type": "execute_result"
    }
   ],
   "source": [
    "len(training_list)"
   ]
  },
  {
   "cell_type": "code",
   "execution_count": 8,
   "metadata": {},
   "outputs": [],
   "source": [
    "band_dict = {1: \"Band 1 - Blue\", 2: \"Band 2 - Green\", 3: \"Band 3 - Red\", 4: \"Band 4 - NIR\"}"
   ]
  },
  {
   "cell_type": "code",
   "execution_count": 9,
   "metadata": {},
   "outputs": [],
   "source": [
    "def normalizaed_data(img):\n",
    "    #min-max normalization of the image based on all images\n",
    "    #four bands, for different min, max\n",
    "    max = [15428, 25493, 51991, 62883]\n",
    "    min = [0, 0, 0, 0]\n",
    "    img_normalized=np.zeros(img.shape)\n",
    "    for i in range(4):\n",
    "        img_normalized[i,:,:]=(img[i,:,:]-min[i])/(max[i]-min[i])\n",
    "    \n",
    "    return img_normalized.astype(np.float64)\n"
   ]
  },
  {
   "cell_type": "code",
   "execution_count": 10,
   "metadata": {},
   "outputs": [],
   "source": [
    "def recover_data(arr):\n",
    "    #recover min-max normalized image\n",
    "    max = [15428, 25493, 51991, 62883]\n",
    "    min = [0, 0, 0, 0]\n",
    "    img_recovered=np.zeros(arr.shape)\n",
    "    for i in range(4):\n",
    "        img_recovered[i,:,:]=arr[i,:,:]*(max[i]-min[i])+min[i]\n",
    "    \n",
    "    return img_recovered.astype(np.float64)"
   ]
  },
  {
   "cell_type": "code",
   "execution_count": 11,
   "metadata": {},
   "outputs": [],
   "source": [
    "def load_image(img_src,normalization = True):\n",
    "    '''\n",
    "    args:\n",
    "    img_src - directory to the target image\n",
    "\n",
    "    return:\n",
    "    data_mtrx - a dictionary of two data matrices for pre and post fire; each of them is in 3 dimensions (band,rows,cols)\n",
    "    meta_data - metadata includes: transformation, projection, numerber of rows, number of columns, number of bands\n",
    "    band_dict - band dictionary includes the information of each band\n",
    "    '''\n",
    "    \n",
    "    ps_name = os.path.basename(img_src).split(\"_\")[0]\n",
    "    loc_name = os.path.basename(img_src).split(\"_\")[1]\n",
    "    \n",
    "    print(\"Loading image: %s - %s\" %(loc_name,ps_name))\n",
    "    \n",
    "    ds = gdal.Open(img_src)\n",
    "    ds_arr = ds.ReadAsArray().astype(np.float32)\n",
    "    \n",
    "    if normalization:\n",
    "        ds_arr = normalizaed_data(ds_arr)\n",
    "    \n",
    "    print(\"Loading image is done!\")\n",
    "    return ds_arr,ps_name,loc_name"
   ]
  },
  {
   "cell_type": "code",
   "execution_count": 12,
   "metadata": {},
   "outputs": [],
   "source": [
    "def create_image_tile(img_src, out_dir, stride_size=32, tile_size = 32):\n",
    "    '''\n",
    "    args:\n",
    "    data_mtrx - a path to 3-dimensional data matrix read from a satellite image\n",
    "\n",
    "    tile_size - the size of the tile in integer, the default size is 3*3\n",
    "    stride_size - the size of the stride in integer, for the size of moving pixels for each tile\n",
    "    output - True/False, whether output the data matrix, the default is False\n",
    "    out_dir - output directory of the tiled image the default is None. If the ouput is True, the out_dir is required. Output data type should be acceptable for the numpy.save, npy is recommended.\n",
    "\n",
    "    return:\n",
    "    data_mtrx_tile - a data matrix of the image after tiling\n",
    "\n",
    "    '''\n",
    "    data_mtrx, ps_name, loc_name = load_image(img_src)\n",
    "\n",
    "    bands, rows, cols = data_mtrx.shape\n",
    "    \n",
    "    print(\"Start tiling the image...\")\n",
    " \n",
    "    new_rows = math.floor(1+(rows-tile_size)/stride_size) #asking huiqi to check this one, need to be changed\n",
    "    new_cols = math.floor(1+(cols-tile_size)/stride_size)\n",
    "    \n",
    "    print(\"The numbers of rows and columns after tiling are (%d, %d)\"%(new_rows,new_cols))\n",
    "\n",
    "    for i in range(new_rows):\n",
    "        if i<10:\n",
    "            str_new_rows = '000'+str(i)\n",
    "        elif i<100:\n",
    "            str_new_rows = '00'+str(i)\n",
    "        elif i<1000:\n",
    "            str_new_rows = '0'+str(i)\n",
    "        else:\n",
    "            str_new_rows = str(i)\n",
    "        for j in range(new_cols):\n",
    "            if j<10:\n",
    "                str_new_cols = '000'+str(j)\n",
    "            elif j<100:\n",
    "                str_new_cols = '00'+str(j)\n",
    "            elif j<1000:\n",
    "                str_new_cols = '0'+str(j)\n",
    "            else:\n",
    "                str_new_cols = str(j)\n",
    "            cropped_arr = data_mtrx[:,i*stride_size : (i*stride_size+tile_size), j*stride_size : (j*stride_size+tile_size)]\n",
    "            cropped_arr[cropped_arr==0.0]=np.nan\n",
    "            if np.isnan(cropped_arr).sum() == 0:\n",
    "                output_file = os.path.join(out_dir,loc_name+\"_\"+ps_name+\"_\"+str_new_rows+\"_\"+str_new_cols+\".npy\")\n",
    "                np.save(output_file, cropped_arr)\n",
    "            if i == 0 and j==0:\n",
    "                print(\"After tiling, the size of data matrix becomes: \", cropped_arr.shape)\n",
    "    del data_mtrx, cropped_arr"
   ]
  },
  {
   "cell_type": "code",
   "execution_count": 29,
   "metadata": {},
   "outputs": [
    {
     "name": "stdout",
     "output_type": "stream",
     "text": [
      "Loading image: EastTroublesome - PlanetScope20201003\n",
      "Loading image is done!\n",
      "Start tiling the image...\n",
      "The numbers of rows and columns after tiling are (322, 607)\n",
      "After tiling, the size of data matrix becomes:  (4, 32, 32)\n",
      "Done. 0.58 mintues\n",
      "Loading image: EastTroublesome - PlanetScope20201006\n",
      "Loading image is done!\n",
      "Start tiling the image...\n",
      "The numbers of rows and columns after tiling are (322, 607)\n",
      "After tiling, the size of data matrix becomes:  (4, 32, 32)\n",
      "Done. 1.05 mintues\n",
      "Loading image: EastTroublesome - PlanetScope20201009\n",
      "Loading image is done!\n",
      "Start tiling the image...\n",
      "The numbers of rows and columns after tiling are (322, 607)\n",
      "After tiling, the size of data matrix becomes:  (4, 32, 32)\n",
      "Done. 1.24 mintues\n",
      "Loading image: EastTroublesome - PlanetScope20201016\n",
      "Loading image is done!\n",
      "Start tiling the image...\n",
      "The numbers of rows and columns after tiling are (322, 607)\n",
      "After tiling, the size of data matrix becomes:  (4, 32, 32)\n",
      "Done. 1.27 mintues\n",
      "Loading image: EastTroublesome - PlanetScope20201029\n",
      "Loading image is done!\n",
      "Start tiling the image...\n",
      "The numbers of rows and columns after tiling are (322, 607)\n",
      "After tiling, the size of data matrix becomes:  (4, 32, 32)\n",
      "Done. 0.71 mintues\n",
      "Loading image: EastTroublesome - PlanetScope20201031\n",
      "Loading image is done!\n",
      "Start tiling the image...\n",
      "The numbers of rows and columns after tiling are (322, 607)\n",
      "After tiling, the size of data matrix becomes:  (4, 32, 32)\n",
      "Done. 1.66 mintues\n",
      "Loading image: EastTroublesome - PlanetScope20201107\n",
      "Loading image is done!\n",
      "Start tiling the image...\n",
      "The numbers of rows and columns after tiling are (322, 607)\n",
      "After tiling, the size of data matrix becomes:  (4, 32, 32)\n",
      "Done. 1.83 mintues\n",
      "Loading image: EastTroublesome - PlanetScope20201108\n",
      "Loading image is done!\n",
      "Start tiling the image...\n",
      "The numbers of rows and columns after tiling are (322, 607)\n",
      "After tiling, the size of data matrix becomes:  (4, 32, 32)\n",
      "Done. 1.34 mintues\n",
      "Loading image: EastTroublesome - PlanetScope20201112\n",
      "Loading image is done!\n",
      "Start tiling the image...\n",
      "The numbers of rows and columns after tiling are (322, 607)\n",
      "After tiling, the size of data matrix becomes:  (4, 32, 32)\n",
      "Done. 1.56 mintues\n",
      "Loading image: EastTroublesome - PlanetScope20201113\n",
      "Loading image is done!\n",
      "Start tiling the image...\n",
      "The numbers of rows and columns after tiling are (322, 607)\n",
      "After tiling, the size of data matrix becomes:  (4, 32, 32)\n",
      "Done. 2.06 mintues\n",
      "Loading image: EastTroublesome - PlanetScope20201114\n",
      "Loading image is done!\n",
      "Start tiling the image...\n",
      "The numbers of rows and columns after tiling are (322, 607)\n",
      "After tiling, the size of data matrix becomes:  (4, 32, 32)\n",
      "Done. 0.59 mintues\n",
      "Loading image: EastTroublesome - PlanetScope20201117\n",
      "Loading image is done!\n",
      "Start tiling the image...\n",
      "The numbers of rows and columns after tiling are (322, 607)\n",
      "After tiling, the size of data matrix becomes:  (4, 32, 32)\n",
      "Done. 1.42 mintues\n",
      "Loading image: EastTroublesome - PlanetScope20201118\n",
      "Loading image is done!\n",
      "Start tiling the image...\n",
      "The numbers of rows and columns after tiling are (322, 607)\n",
      "After tiling, the size of data matrix becomes:  (4, 32, 32)\n",
      "Done. 2.01 mintues\n",
      "Loading image: EastTroublesome - PlanetScope20201121\n",
      "Loading image is done!\n",
      "Start tiling the image...\n",
      "The numbers of rows and columns after tiling are (322, 607)\n",
      "After tiling, the size of data matrix becomes:  (4, 32, 32)\n",
      "Done. 0.36 mintues\n",
      "Loading image: EastTroublesome - PlanetScope20201126\n",
      "Loading image is done!\n",
      "Start tiling the image...\n",
      "The numbers of rows and columns after tiling are (322, 607)\n",
      "After tiling, the size of data matrix becomes:  (4, 32, 32)\n",
      "Done. 0.31 mintues\n",
      "Loading image: EastTroublesome - PlanetScope20201127\n",
      "Loading image is done!\n",
      "Start tiling the image...\n",
      "The numbers of rows and columns after tiling are (322, 607)\n",
      "After tiling, the size of data matrix becomes:  (4, 32, 32)\n",
      "Done. 1.30 mintues\n",
      "Loading image: EastTroublesome - PlanetScope20201128\n",
      "Loading image is done!\n",
      "Start tiling the image...\n",
      "The numbers of rows and columns after tiling are (322, 607)\n",
      "After tiling, the size of data matrix becomes:  (4, 32, 32)\n",
      "Done. 1.79 mintues\n",
      "Loading image: McFarland - PlanetScope20210702\n",
      "Loading image is done!\n",
      "Start tiling the image...\n",
      "The numbers of rows and columns after tiling are (300, 438)\n",
      "After tiling, the size of data matrix becomes:  (4, 32, 32)\n",
      "Done. 0.69 mintues\n",
      "Loading image: McFarland - PlanetScope20210704\n",
      "Loading image is done!\n",
      "Start tiling the image...\n",
      "The numbers of rows and columns after tiling are (300, 438)\n",
      "After tiling, the size of data matrix becomes:  (4, 32, 32)\n",
      "Done. 1.15 mintues\n",
      "Loading image: McFarland - PlanetScope20210708\n",
      "Loading image is done!\n",
      "Start tiling the image...\n",
      "The numbers of rows and columns after tiling are (300, 438)\n",
      "After tiling, the size of data matrix becomes:  (4, 32, 32)\n",
      "Done. 1.61 mintues\n",
      "Loading image: McFarland - PlanetScope20210715\n",
      "Loading image is done!\n",
      "Start tiling the image...\n",
      "The numbers of rows and columns after tiling are (300, 438)\n",
      "After tiling, the size of data matrix becomes:  (4, 32, 32)\n",
      "Done. 1.63 mintues\n",
      "Loading image: McFarland - PlanetScope20210716\n",
      "Loading image is done!\n",
      "Start tiling the image...\n",
      "The numbers of rows and columns after tiling are (300, 438)\n",
      "After tiling, the size of data matrix becomes:  (4, 32, 32)\n",
      "Done. 1.56 mintues\n",
      "Loading image: McFarland - PlanetScope20210720\n",
      "Loading image is done!\n",
      "Start tiling the image...\n",
      "The numbers of rows and columns after tiling are (300, 438)\n",
      "After tiling, the size of data matrix becomes:  (4, 32, 32)\n",
      "Done. 1.68 mintues\n",
      "Loading image: McFarland - PlanetScope20210731\n",
      "Loading image is done!\n",
      "Start tiling the image...\n",
      "The numbers of rows and columns after tiling are (300, 438)\n",
      "After tiling, the size of data matrix becomes:  (4, 32, 32)\n",
      "Done. 1.72 mintues\n",
      "Loading image: McFarland - PlanetScope20210803\n",
      "Loading image is done!\n",
      "Start tiling the image...\n",
      "The numbers of rows and columns after tiling are (300, 438)\n",
      "After tiling, the size of data matrix becomes:  (4, 32, 32)\n",
      "Done. 0.44 mintues\n",
      "Loading image: McFarland - PlanetScope20210804\n",
      "Loading image is done!\n",
      "Start tiling the image...\n",
      "The numbers of rows and columns after tiling are (300, 438)\n",
      "After tiling, the size of data matrix becomes:  (4, 32, 32)\n",
      "Done. 1.67 mintues\n",
      "Loading image: McFarland - PlanetScope20210806\n",
      "Loading image is done!\n",
      "Start tiling the image...\n",
      "The numbers of rows and columns after tiling are (300, 438)\n",
      "After tiling, the size of data matrix becomes:  (4, 32, 32)\n",
      "Done. 1.55 mintues\n",
      "Loading image: McFarland - PlanetScope20210809\n",
      "Loading image is done!\n",
      "Start tiling the image...\n",
      "The numbers of rows and columns after tiling are (300, 438)\n",
      "After tiling, the size of data matrix becomes:  (4, 32, 32)\n",
      "Done. 1.64 mintues\n",
      "Loading image: McFarland - PlanetScope20210814\n",
      "Loading image is done!\n",
      "Start tiling the image...\n",
      "The numbers of rows and columns after tiling are (300, 438)\n",
      "After tiling, the size of data matrix becomes:  (4, 32, 32)\n",
      "Done. 0.79 mintues\n",
      "Loading image: McFarland - PlanetScope20210819\n",
      "Loading image is done!\n",
      "Start tiling the image...\n",
      "The numbers of rows and columns after tiling are (300, 438)\n",
      "After tiling, the size of data matrix becomes:  (4, 32, 32)\n",
      "Done. 1.09 mintues\n",
      "Loading image: McFarland - PlanetScope20210821\n",
      "Loading image is done!\n",
      "Start tiling the image...\n",
      "The numbers of rows and columns after tiling are (300, 438)\n",
      "After tiling, the size of data matrix becomes:  (4, 32, 32)\n",
      "Done. 0.72 mintues\n",
      "Loading image: McFarland - PlanetScope20210822\n",
      "Loading image is done!\n",
      "Start tiling the image...\n",
      "The numbers of rows and columns after tiling are (300, 438)\n",
      "After tiling, the size of data matrix becomes:  (4, 32, 32)\n",
      "Done. 1.79 mintues\n",
      "Loading image: McFarland - PlanetScope20210824\n",
      "Loading image is done!\n",
      "Start tiling the image...\n",
      "The numbers of rows and columns after tiling are (300, 438)\n",
      "After tiling, the size of data matrix becomes:  (4, 32, 32)\n",
      "Done. 1.87 mintues\n",
      "Loading image: McFarland - PlanetScope20210825\n",
      "Loading image is done!\n",
      "Start tiling the image...\n",
      "The numbers of rows and columns after tiling are (300, 438)\n",
      "After tiling, the size of data matrix becomes:  (4, 32, 32)\n",
      "Done. 2.04 mintues\n",
      "Loading image: McFarland - PlanetScope20210829\n",
      "Loading image is done!\n",
      "Start tiling the image...\n",
      "The numbers of rows and columns after tiling are (300, 438)\n",
      "After tiling, the size of data matrix becomes:  (4, 32, 32)\n",
      "Done. 0.76 mintues\n",
      "Loading image: McFarland - PlanetScope20210831\n",
      "Loading image is done!\n",
      "Start tiling the image...\n",
      "The numbers of rows and columns after tiling are (300, 438)\n",
      "After tiling, the size of data matrix becomes:  (4, 32, 32)\n",
      "Done. 1.58 mintues\n",
      "Loading image: McFarland - PlanetScope20210901\n",
      "Loading image is done!\n",
      "Start tiling the image...\n",
      "The numbers of rows and columns after tiling are (300, 438)\n",
      "After tiling, the size of data matrix becomes:  (4, 32, 32)\n",
      "Done. 2.07 mintues\n",
      "Loading image: McFarland - PlanetScope20210915\n",
      "Loading image is done!\n",
      "Start tiling the image...\n",
      "The numbers of rows and columns after tiling are (300, 438)\n",
      "After tiling, the size of data matrix becomes:  (4, 32, 32)\n",
      "Done. 1.79 mintues\n",
      "Loading image: McFarland - PlanetScope20210919\n",
      "Loading image is done!\n",
      "Start tiling the image...\n",
      "The numbers of rows and columns after tiling are (300, 438)\n",
      "After tiling, the size of data matrix becomes:  (4, 32, 32)\n",
      "Done. 0.68 mintues\n",
      "Loading image: McFarland - PlanetScope20210923\n",
      "Loading image is done!\n",
      "Start tiling the image...\n",
      "The numbers of rows and columns after tiling are (300, 438)\n",
      "After tiling, the size of data matrix becomes:  (4, 32, 32)\n",
      "Done. 1.64 mintues\n",
      "Loading image: McFarland - PlanetScope20210924\n",
      "Loading image is done!\n",
      "Start tiling the image...\n",
      "The numbers of rows and columns after tiling are (300, 438)\n",
      "After tiling, the size of data matrix becomes:  (4, 32, 32)\n",
      "Done. 1.92 mintues\n",
      "Loading image: McFarland - PlanetScope20210929\n",
      "Loading image is done!\n",
      "Start tiling the image...\n",
      "The numbers of rows and columns after tiling are (300, 438)\n",
      "After tiling, the size of data matrix becomes:  (4, 32, 32)\n",
      "Done. 1.43 mintues\n",
      "Loading image: McFarland - PlanetScope20210930\n",
      "Loading image is done!\n",
      "Start tiling the image...\n",
      "The numbers of rows and columns after tiling are (300, 438)\n",
      "After tiling, the size of data matrix becomes:  (4, 32, 32)\n",
      "Done. 1.91 mintues\n"
     ]
    }
   ],
   "source": [
    "for tr_f in training_list:\n",
    "    start = time.time()\n",
    "    create_image_tile(tr_f,out_dir = \"/home/data/PS_Training\")\n",
    "    print(\"Done. %.2f mintues\" %((time.time()-start)/60))"
   ]
  },
  {
   "cell_type": "code",
   "execution_count": 37,
   "metadata": {},
   "outputs": [],
   "source": [
    "test = np.load(\"/home/data/PS_Training/McFarland_PlanetScope20210825_0200_0423.npy\")\n",
    "test = test*10"
   ]
  },
  {
   "cell_type": "code",
   "execution_count": 38,
   "metadata": {},
   "outputs": [
    {
     "data": {
      "image/png": "[encoded data removed]",
      "text/plain": [
       "<Figure size 432x288 with 1 Axes>"
      ]
     },
     "metadata": {
      "needs_background": "light"
     },
     "output_type": "display_data"
    }
   ],
   "source": [
    "plt.figure()\n",
    "plt.imshow(np.moveaxis(test[[2,1,0],:,:],0,-1))\n",
    "plt.axis(\"off\")\n",
    "plt.show()"
   ]
  },
  {
   "cell_type": "code",
   "execution_count": 38,
   "metadata": {},
   "outputs": [],
   "source": [
    "test_list = glob.glob(\"/home/zbc123a/PS_Training_Data/\"+\"*.npy\")"
   ]
  },
  {
   "cell_type": "code",
   "execution_count": 39,
   "metadata": {},
   "outputs": [
    {
     "data": {
      "text/plain": [
       "4382607"
      ]
     },
     "execution_count": 39,
     "metadata": {},
     "output_type": "execute_result"
    }
   ],
   "source": [
    "len(test_list)"
   ]
  }
 ],
 "metadata": {
  "kernelspec": {
   "display_name": "Python 3.7.12 ('mlenv')",
   "language": "python",
   "name": "python3"
  },
  "language_info": {
   "codemirror_mode": {
    "name": "ipython",
    "version": 3
   },
   "file_extension": ".py",
   "mimetype": "text/x-python",
   "name": "python",
   "nbconvert_exporter": "python",
   "pygments_lexer": "ipython3",
   "version": "3.7.12 | packaged by conda-forge | (default, Oct 26 2021, 06:08:21) \n[GCC 9.4.0]"
  },
  "orig_nbformat": 4,
  "vscode": {
   "interpreter": {
    "hash": "58a3192e8a7933dc19dfe2cbd46a519cde9c99cb96266d2437ea59eff5c83e98"
   }
  }
 },
 "nbformat": 4,
 "nbformat_minor": 2
}
