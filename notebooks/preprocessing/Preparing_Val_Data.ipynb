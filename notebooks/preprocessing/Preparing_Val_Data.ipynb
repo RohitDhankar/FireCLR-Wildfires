{
 "cells": [
  {
   "attachments": {},
   "cell_type": "markdown",
   "metadata": {},
   "source": [
    "## Notes\n",
    "\n",
    "\n",
    "* Drop images with range 0-255\n",
    "\n",
    "* reshape the images into 4\\*32\\*32 tile size, stride = 8, \n",
    "\n",
    "* Outpuy the images into training dataset folder"
   ]
  },
  {
   "cell_type": "code",
   "execution_count": 1,
   "metadata": {},
   "outputs": [
    {
     "name": "stderr",
     "output_type": "stream",
     "text": [
      "/opt/conda/envs/mlenv/lib/python3.7/site-packages/tqdm/auto.py:22: TqdmWarning: IProgress not found. Please update jupyter and ipywidgets. See https://ipywidgets.readthedocs.io/en/stable/user_install.html\n",
      "  from .autonotebook import tqdm as notebook_tqdm\n"
     ]
    }
   ],
   "source": [
    "import glob\n",
    "import numpy as np\n",
    "import torch\n",
    "from torch.utils.data import DataLoader\n",
    "import pandas as pd\n",
    "from matplotlib import pyplot as plt\n",
    "import os\n",
    "from osgeo import gdal\n",
    "import math\n",
    "from tqdm import tqdm\n",
    "import time\n",
    "import rasterio as rio\n",
    "import rasterio.plot as rioplt"
   ]
  },
  {
   "cell_type": "code",
   "execution_count": 3,
   "metadata": {},
   "outputs": [],
   "source": [
    "# read data and set the normalization parameters (fixed) PS\n",
    "MS_list = glob.glob(\"/home/zbc123a/PS_Mesa_AnalyticMS_SR/\"+\"*clipped*.tif\")\n",
    "MS_list.sort()\n",
    "\n",
    "max = [15428, 25493, 51991, 62883]\n",
    "min = [0, 0, 0, 0]"
   ]
  },
  {
   "cell_type": "code",
   "execution_count": 10,
   "metadata": {},
   "outputs": [],
   "source": [
    "# read data and set the normalization parameters (fixed) S2\n",
    "prefire = \"/home/zbc123a/Sentinel_Mesa_4Bands_clipped/S2B_20180726.tif\"\n",
    "\n",
    "postfire = \"/home/zbc123a/Sentinel_Mesa_4Bands_clipped/S2B_20180815.tif\"\n",
    "\n",
    "max = [18408, 18855, 23857, 22105]\n",
    "min = [0, 0, 0, 0]"
   ]
  },
  {
   "cell_type": "code",
   "execution_count": 3,
   "metadata": {},
   "outputs": [],
   "source": [
    "band_dict = {1: \"Band 1 - Blue\", 2: \"Band 2 - Green\", 3: \"Band 3 - Red\", 4: \"Band 4 - NIR\"}"
   ]
  },
  {
   "cell_type": "code",
   "execution_count": 5,
   "metadata": {},
   "outputs": [],
   "source": [
    "def normalizaed_data(img):\n",
    "    #min-max normalization of the image based on all images\n",
    "    #four bands, for different min, max\n",
    "    max = [15428, 25493, 51991, 62883]\n",
    "    min = [0, 0, 0, 0]\n",
    "    img_normalized=np.zeros(img.shape)\n",
    "    for i in range(4):\n",
    "        img_normalized[i,:,:]=(img[i,:,:]-min[i])/(max[i]-min[i])\n",
    "    \n",
    "    return img_normalized.astype(np.float64)\n"
   ]
  },
  {
   "cell_type": "code",
   "execution_count": 6,
   "metadata": {},
   "outputs": [],
   "source": [
    "def recover_data(arr):\n",
    "    #recover min-max normalized image\n",
    "    max = [15428, 25493, 51991, 62883]\n",
    "    min = [0, 0, 0, 0]\n",
    "    img_recovered=np.zeros(arr.shape)\n",
    "    for i in range(4):\n",
    "        img_recovered[i,:,:]=arr[i,:,:]*(max[i]-min[i])+min[i]\n",
    "    \n",
    "    return img_recovered.astype(np.float64)"
   ]
  },
  {
   "cell_type": "code",
   "execution_count": 7,
   "metadata": {},
   "outputs": [],
   "source": [
    "# S2\n",
    "def load_image(img_src,normalization = True):\n",
    "    '''\n",
    "    args:\n",
    "    img_src - directory to the target image\n",
    "\n",
    "    return:\n",
    "    data_mtrx - a dictionary of two data matrices for pre and post fire; each of them is in 3 dimensions (band,rows,cols)\n",
    "    meta_data - metadata includes: transformation, projection, numerber of rows, number of columns, number of bands\n",
    "    band_dict - band dictionary includes the information of each band\n",
    "    '''\n",
    "    \n",
    "    s2_name = os.path.basename(img_src)[:-4]\n",
    "    loc_name = 'Mesa'\n",
    "    print(\"Loading image: %s - %s\" %(loc_name,s2_name))\n",
    "    \n",
    "    ds = gdal.Open(img_src)\n",
    "    ds_arr = ds.ReadAsArray().astype(np.float32)\n",
    "    \n",
    "    if normalization:\n",
    "        ds_arr = normalizaed_data(ds_arr)\n",
    "    \n",
    "    print(\"Loading image is done!\")\n",
    "    return ds_arr,s2_name,loc_name"
   ]
  },
  {
   "cell_type": "code",
   "execution_count": 18,
   "metadata": {},
   "outputs": [],
   "source": [
    "# PS\n",
    "def load_image(img_src,normalization = True):\n",
    "    '''\n",
    "    args:\n",
    "    img_src - directory to the target image\n",
    "\n",
    "    return:\n",
    "    data_mtrx - a dictionary of two data matrices for pre and post fire; each of them is in 3 dimensions (band,rows,cols)\n",
    "    meta_data - metadata includes: transformation, projection, numerber of rows, number of columns, number of bands\n",
    "    band_dict - band dictionary includes the information of each band\n",
    "    '''\n",
    "    \n",
    "    ps_name = os.path.basename(img_src).split(\"_\")[0]\n",
    "    loc_name = os.path.basename(img_src).split(\"_\")[1]\n",
    "    \n",
    "    print(\"Loading image: %s - %s\" %(loc_name,ps_name))\n",
    "    \n",
    "    ds = gdal.Open(img_src)\n",
    "    ds_arr = ds.ReadAsArray().astype(np.float32)\n",
    "    \n",
    "    if normalization:\n",
    "        ds_arr = normalizaed_data(ds_arr)\n",
    "    \n",
    "    print(\"Loading image is done!\")\n",
    "    return ds_arr,ps_name,loc_name"
   ]
  },
  {
   "cell_type": "code",
   "execution_count": 8,
   "metadata": {},
   "outputs": [],
   "source": [
    "def create_image_tile(img_src, out_dir, stride_size=32, tile_size = 32):\n",
    "    '''\n",
    "    args:\n",
    "    img_src - a path to 3-dimensional data matrix read from a satellite image\n",
    "    tile_size - the size of the tile in integer, the default size is 3*3\n",
    "    stride_size - the size of the stride in integer, for the size of moving pixels for each tile\n",
    "    output - True/False, whether output the data matrix, the default is False\n",
    "    out_dir - output directory of the tiled image the default is None. If the ouput is True, the out_dir is required. Output data type should be acceptable for the numpy.save, npy is recommended.\n",
    "\n",
    "    return:\n",
    "    data_mtrx_tile - a data matrix of the image after tiling\n",
    "\n",
    "    '''\n",
    "    data_mtrx, ps_name, loc_name = load_image(img_src)\n",
    "\n",
    "    bands, rows, cols = data_mtrx.shape\n",
    "    \n",
    "    print(\"Start tiling the image...\")\n",
    " \n",
    "    new_rows = math.floor(1+(rows-tile_size)/stride_size) #asking huiqi to check this one, need to be changed\n",
    "    new_cols = math.floor(1+(cols-tile_size)/stride_size)\n",
    "    \n",
    "    print(\"The numbers of rows and columns after tiling are (%d, %d)\"%(new_rows,new_cols))\n",
    "\n",
    "    for i in range(new_rows):\n",
    "        if i<10:\n",
    "            str_new_rows = '000'+str(i)\n",
    "        elif i<100:\n",
    "            str_new_rows = '00'+str(i)\n",
    "        elif i<1000:\n",
    "            str_new_rows = '0'+str(i)\n",
    "        else:\n",
    "            str_new_rows = str(i)\n",
    "        for j in range(new_cols):\n",
    "            if j<10:\n",
    "                str_new_cols = '000'+str(j)\n",
    "            elif j<100:\n",
    "                str_new_cols = '00'+str(j)\n",
    "            elif j<1000:\n",
    "                str_new_cols = '0'+str(j)\n",
    "            else:\n",
    "                str_new_cols = str(j)\n",
    "            cropped_arr = data_mtrx[:,i*stride_size : (i*stride_size+tile_size), j*stride_size : (j*stride_size+tile_size)]\n",
    "            #cropped_arr[cropped_arr==0.0]=np.nan\n",
    "            if np.isnan(cropped_arr).sum() == 0:\n",
    "                output_file = os.path.join(out_dir,loc_name+\"_\"+ps_name+\"_\"+str_new_rows+\"_\"+str_new_cols+\".npy\")\n",
    "                np.save(output_file, cropped_arr)\n",
    "            if i == 0 and j==0:\n",
    "                print(\"After tiling, the size of data matrix becomes: \", cropped_arr.shape)\n",
    "    del data_mtrx, cropped_arr"
   ]
  },
  {
   "cell_type": "code",
   "execution_count": 11,
   "metadata": {},
   "outputs": [
    {
     "name": "stdout",
     "output_type": "stream",
     "text": [
      "Loading image: Mesa - S2B_20180726\n",
      "Loading image is done!\n",
      "Start tiling the image...\n",
      "The numbers of rows and columns after tiling are (249, 196)\n",
      "After tiling, the size of data matrix becomes:  (4, 32, 32)\n"
     ]
    }
   ],
   "source": [
    "create_image_tile(prefire, stride_size = 8, out_dir = \"/home/zbc123a/S2_Downstream/Mesa_prefire\") #stride 8"
   ]
  },
  {
   "cell_type": "code",
   "execution_count": 12,
   "metadata": {},
   "outputs": [
    {
     "name": "stdout",
     "output_type": "stream",
     "text": [
      "Loading image: Mesa - S2B_20180815\n",
      "Loading image is done!\n",
      "Start tiling the image...\n",
      "The numbers of rows and columns after tiling are (249, 196)\n",
      "After tiling, the size of data matrix becomes:  (4, 32, 32)\n"
     ]
    }
   ],
   "source": [
    "create_image_tile(postfire, stride_size = 8,out_dir=\"/home/zbc123a/S2_Downstream/Mesa_postfire\")"
   ]
  },
  {
   "cell_type": "code",
   "execution_count": 41,
   "metadata": {},
   "outputs": [],
   "source": [
    "test = np.load(\"/home/zbc123a/PS_Downstream/Mesa_SR_postfire/AnalyticMS_PS_0100_0100.npy\")"
   ]
  },
  {
   "cell_type": "code",
   "execution_count": 42,
   "metadata": {},
   "outputs": [],
   "source": [
    "test_original = recover_data(test)/2000"
   ]
  },
  {
   "cell_type": "code",
   "execution_count": 43,
   "metadata": {},
   "outputs": [
    {
     "data": {
      "image/png": "[encoded data removed]",
      "text/plain": [
       "<Figure size 432x288 with 1 Axes>"
      ]
     },
     "metadata": {
      "needs_background": "light"
     },
     "output_type": "display_data"
    }
   ],
   "source": [
    "plt.figure()\n",
    "plt.imshow(np.moveaxis(test_original[[2,1,0],:,:],0,-1))\n",
    "plt.axis(\"off\")\n",
    "plt.show()"
   ]
  },
  {
   "cell_type": "code",
   "execution_count": null,
   "metadata": {},
   "outputs": [],
   "source": []
  }
 ],
 "metadata": {
  "kernelspec": {
   "display_name": "Python 3.7.12 ('mlenv')",
   "language": "python",
   "name": "python3"
  },
  "language_info": {
   "codemirror_mode": {
    "name": "ipython",
    "version": 3
   },
   "file_extension": ".py",
   "mimetype": "text/x-python",
   "name": "python",
   "nbconvert_exporter": "python",
   "pygments_lexer": "ipython3",
   "version": "3.7.12"
  },
  "vscode": {
   "interpreter": {
    "hash": "58a3192e8a7933dc19dfe2cbd46a519cde9c99cb96266d2437ea59eff5c83e98"
   }
  }
 },
 "nbformat": 4,
 "nbformat_minor": 4
}
